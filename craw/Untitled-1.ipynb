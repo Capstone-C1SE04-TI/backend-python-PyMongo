{
 "cells": [
  {
   "cell_type": "code",
   "execution_count": 15,
   "metadata": {},
   "outputs": [],
   "source": [
    "import requests\n",
    "from bs4 import BeautifulSoup\n",
    "import random\n",
    "import concurrent.futures\n",
    "import json\n",
    "from vpn import activeProxiesToJson"
   ]
  },
  {
   "cell_type": "code",
   "execution_count": 22,
   "metadata": {},
   "outputs": [
    {
     "name": "stdout",
     "output_type": "stream",
     "text": [
      "['31.186.239.244:8080']\n",
      "['31.186.239.244:8080']\n",
      "[]\n",
      "[]\n",
      "[]\n",
      "[]\n",
      "['176.9.220.108:8080']\n",
      "New proxy : 176.9.220.108:8080\n",
      "['212.156.123.218:8080']\n",
      "New proxy : 212.156.123.218:8080\n",
      "[]\n",
      "[]\n",
      "['113.252.185.184:3128']\n",
      "New proxy : 113.252.185.184:3128\n",
      "['213.32.253.99:8080']\n",
      "New proxy : 213.32.253.99:8080\n",
      "[]\n",
      "[]\n",
      "['178.128.211.134:6868']\n",
      "New proxy : 178.128.211.134:6868\n",
      "[]\n",
      "['198.24.187.93:8001']\n",
      "New proxy : 198.24.187.93:8001\n",
      "[]\n"
     ]
    }
   ],
   "source": [
    "def getProxies():\n",
    "\n",
    "    for i in range(18):\n",
    "\n",
    "        response = requests.get(\n",
    "            f'https://proxylist.geonode.com/api/proxy-list?limit=499&page={i}&sort_by=lastChecked&sort_type=desc')\n",
    "\n",
    "        newProxies = response.json()['data']\n",
    "\n",
    "        protocols = []\n",
    "\n",
    "        # protocols = 'https'\n",
    "        # anonymityLevel = 'elite'\n",
    "\n",
    "        workingProxies = []\n",
    "        for proxy in newProxies:\n",
    "\n",
    "            protocol = proxy['protocols']\n",
    "            anonymityLevel = proxy['anonymityLevel']\n",
    "            if 'https' not in protocol:\n",
    "                continue\n",
    "            if anonymityLevel != 'elite':\n",
    "                continue\n",
    "\n",
    "            ip = proxy['ip']\n",
    "            port = proxy['port']\n",
    "            workingProxies.append(f'{ip}:{port}')\n",
    "\n",
    "        activeProxiesToJson(workingProxies)\n",
    "\n",
    "\n",
    "getProxies()\n"
   ]
  },
  {
   "cell_type": "code",
   "execution_count": null,
   "metadata": {},
   "outputs": [],
   "source": []
  }
 ],
 "metadata": {
  "kernelspec": {
   "display_name": "venv",
   "language": "python",
   "name": "python3"
  },
  "language_info": {
   "codemirror_mode": {
    "name": "ipython",
    "version": 3
   },
   "file_extension": ".py",
   "mimetype": "text/x-python",
   "name": "python",
   "nbconvert_exporter": "python",
   "pygments_lexer": "ipython3",
   "version": "3.10.5"
  },
  "orig_nbformat": 4,
  "vscode": {
   "interpreter": {
    "hash": "603416d54998818ec01f60040e378921e3086ce798917329ea1d8f447db9415d"
   }
  }
 },
 "nbformat": 4,
 "nbformat_minor": 2
}
